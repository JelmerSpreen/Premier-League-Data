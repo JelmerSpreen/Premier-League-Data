{
 "cells": [
  {
   "cell_type": "code",
   "execution_count": null,
   "id": "0db0f678",
   "metadata": {},
   "outputs": [],
   "source": [
    "#### Save/reload Clubs Data\n",
    "import json\n",
    "\n",
    "def load_data(title):\n",
    "    with open(title, encoding=\"utf-8\") as f:\n",
    "        return json.load(f)\n",
    "\n",
    "\n",
    "premier_clubs_list = load_data(\"PremierL_data.json\")"
   ]
  },
  {
   "cell_type": "code",
   "execution_count": null,
   "id": "58fb6ede",
   "metadata": {},
   "outputs": [],
   "source": [
    "import re\n",
    "\n",
    "def clean_data(data):\n",
    "    # Remove \"Coordinates\" data row\n",
    "    data['Data'].pop('Coordinates', None)\n",
    "    \n",
    "    # Remove \"Website\" row\n",
    "    data['Data'].pop('Website', None)\n",
    "    \n",
    "    # Remove \"2022–23\" row\n",
    "    data['Data'].pop('2022–23', None)\n",
    "    \n",
    "    # Remove \"Short name\" row\n",
    "    data['Data'].pop('Short name', None)\n",
    "    \n",
    "    # Remove \"Co-chairmen\" row\n",
    "    data['Data'].pop('Co-chairmen', None)\n",
    "\n",
    "    # Remove references enclosed in square brackets\n",
    "    for key, value in data['Data'].items():\n",
    "        if isinstance(value, str):  # Check if value is a string\n",
    "            cleaned_value = re.sub(r'\\[[^\\]]*\\]', '', value).strip()\n",
    "            data['Data'][key] = cleaned_value  # Update the value in the dictionary\n",
    "            \n",
    "    # Update \"Capacity\" row to return numerical values\n",
    "    capacity = data['Data'].get('Capacity', '')\n",
    "    if isinstance(capacity, str):\n",
    "        numerical_capacity = ''.join(c for c in capacity if c.isdigit())\n",
    "        data['Data']['Capacity'] = int(numerical_capacity) if numerical_capacity else None\n",
    "\n",
    "    # Convert scientific notation to regular number format\n",
    "    if 'Capacity' in data['Data'] and isinstance(data['Data']['Capacity'], (int, float)):\n",
    "        data['Data']['Capacity'] = format(data['Data']['Capacity'], ',')\n",
    "\n",
    "    # Convert \"Founded\" value into a numerical value\n",
    "    founded = data['Data'].get('Founded', '')\n",
    "    if isinstance(founded, str):\n",
    "        numerical_founded = ''.join(c for c in founded if c.isdigit())\n",
    "        data['Data']['Founded'] = int(numerical_founded) if numerical_founded else None\n",
    "\n",
    "    return data\n",
    "\n",
    "premier_clubs_list_cleaned = [clean_data(club_data) for club_data in premier_clubs_list]\n"
   ]
  },
  {
   "cell_type": "code",
   "execution_count": null,
   "id": "6503e806",
   "metadata": {},
   "outputs": [],
   "source": [
    "print(premier_clubs_list_cleaned)"
   ]
  },
  {
   "cell_type": "code",
   "execution_count": null,
   "id": "0d57056e",
   "metadata": {},
   "outputs": [],
   "source": [
    "import pickle\n",
    "\n",
    "def save_data_pickle(name, data):\n",
    "    with open(name, 'wb') as f:\n",
    "        pickle.dump(data, f)"
   ]
  },
  {
   "cell_type": "code",
   "execution_count": null,
   "id": "ae60f692",
   "metadata": {},
   "outputs": [],
   "source": [
    "import pickle\n",
    "\n",
    "def load_data_pickle(name, data):\n",
    "    with open(name, 'rb') as f:\n",
    "        return pickle.load(f)"
   ]
  },
  {
   "cell_type": "code",
   "execution_count": null,
   "id": "5967200b",
   "metadata": {},
   "outputs": [],
   "source": [
    "save_data_pickle(\"PremierL_data_cleaned.pickle\", premier_clubs_list_cleaned)"
   ]
  },
  {
   "cell_type": "code",
   "execution_count": null,
   "id": "26b4dcb8",
   "metadata": {},
   "outputs": [],
   "source": [
    "output_file_path = 'cleaned_data.json'\n",
    "with open(output_file_path, 'w') as json_file:\n",
    "    json.dump(premier_clubs_list_cleaned, json_file, indent=2)\n"
   ]
  },
  {
   "cell_type": "code",
   "execution_count": null,
   "id": "b2590ace",
   "metadata": {},
   "outputs": [],
   "source": [
    "import pandas as pd\n",
    "\n",
    "df = pd.DataFrame(premier_clubs_list_cleaned)\n",
    "df.head()"
   ]
  },
  {
   "cell_type": "code",
   "execution_count": null,
   "id": "8a18762f",
   "metadata": {},
   "outputs": [],
   "source": [
    "df.head()"
   ]
  },
  {
   "cell_type": "code",
   "execution_count": null,
   "id": "90202cb4",
   "metadata": {},
   "outputs": [],
   "source": [
    "import pandas as pd\n",
    "\n",
    "df = pd.DataFrame(premier_clubs_list_cleaned)\n",
    "\n",
    "# Normalize the 'Data' column\n",
    "df_normalized = pd.json_normalize(df['Data'])\n",
    "\n",
    "# Concatenate the 'Club' column with the normalized data\n",
    "df_result = pd.concat([df['Club'], df_normalized], axis=1)\n",
    "\n",
    "# Display the first 10 rows\n",
    "print(df_result.head(20))"
   ]
  },
  {
   "cell_type": "code",
   "execution_count": null,
   "id": "fd962c40",
   "metadata": {},
   "outputs": [],
   "source": [
    "from IPython.display import display\n",
    "\n",
    "# Display the DataFrame\n",
    "display(df_result.head(20\n",
    "                      ))"
   ]
  },
  {
   "cell_type": "code",
   "execution_count": null,
   "id": "5aa84518",
   "metadata": {},
   "outputs": [],
   "source": [
    "df.to_csv(\"Premier_clubs_list_final.csv\")"
   ]
  },
  {
   "cell_type": "code",
   "execution_count": null,
   "id": "dcf977a2",
   "metadata": {},
   "outputs": [],
   "source": [
    "df_result.to_excel(\"Premier_clubs_list_final.xlsx\")"
   ]
  },
  {
   "cell_type": "code",
   "execution_count": null,
   "id": "0c7670ae",
   "metadata": {},
   "outputs": [],
   "source": [
    "df.columns"
   ]
  }
 ],
 "metadata": {
  "kernelspec": {
   "display_name": "Python 3 (ipykernel)",
   "language": "python",
   "name": "python3"
  },
  "language_info": {
   "codemirror_mode": {
    "name": "ipython",
    "version": 3
   },
   "file_extension": ".py",
   "mimetype": "text/x-python",
   "name": "python",
   "nbconvert_exporter": "python",
   "pygments_lexer": "ipython3",
   "version": "3.11.5"
  }
 },
 "nbformat": 4,
 "nbformat_minor": 5
}
